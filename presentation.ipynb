{
 "cells": [
  {
   "cell_type": "markdown",
   "id": "8fccaeef",
   "metadata": {
    "slideshow": {
     "slide_type": "slide"
    }
   },
   "source": [
    "# Cross-Validation with Irregular Time Series\n",
    "## Sktime DEV Days 2022\n",
    "### Stanislav Khrapov, Data Scientist, Chintai\n",
    "![Chintai](https://media.newjobs.com/clu/xw31/xw318532284wDEx/branding/177718/Chintai-logo-637553537963924757.png)"
   ]
  },
  {
   "cell_type": "markdown",
   "id": "f2f39f8c",
   "metadata": {
    "slideshow": {
     "slide_type": "slide"
    }
   },
   "source": [
    "## Time Series Cross-Validation\n",
    "![split](https://i.stack.imgur.com/fXZ6k.png)"
   ]
  },
  {
   "cell_type": "markdown",
   "id": "4fb88498",
   "metadata": {
    "slideshow": {
     "slide_type": "subslide"
    }
   },
   "source": [
    "## Typical cross-validation pipeline\n",
    "\n",
    "- get raw irregular data\n",
    "- process data (aggregate, impute, align, etc.)\n",
    "- cross-validate (repeat the following many times for different splits):\n",
    "  - split\n",
    "  - forecast $y$\n",
    "  - record forecasts, residuals, etc\n",
    "- aggregate cross-validation results"
   ]
  },
  {
   "cell_type": "markdown",
   "id": "444e92ae",
   "metadata": {
    "slideshow": {
     "slide_type": "subslide"
    }
   },
   "source": [
    "## Existing implementation fails when some data processing is required after each split operation\n",
    "\n",
    "- cross-validate (repeat the following many times for different splits):\n",
    "  - split\n",
    "  - **process data**\n",
    "  - forecast $y$"
   ]
  },
  {
   "cell_type": "markdown",
   "id": "9082af0f",
   "metadata": {
    "slideshow": {
     "slide_type": "slide"
    }
   },
   "source": [
    "# Sktime splitters\n",
    "\n",
    "`sktime.forecasting.model_selection`:\n",
    "\n",
    "- `ExpandingWindowSplitter`\n",
    "- `SlidingWindowSplitter`\n",
    "- `CutoffSplitter`\n",
    "- `SingleWindowSplitter`"
   ]
  },
  {
   "cell_type": "markdown",
   "id": "3866490d",
   "metadata": {
    "slideshow": {
     "slide_type": "subslide"
    }
   },
   "source": [
    "```python\n",
    "import numpy as np\n",
    "import pandas as pd\n",
    "\n",
    "from sktime.forecasting.model_selection import CutoffSplitter\n",
    "\n",
    "index = pd.period_range(start=\"2022-07-13\", periods=4, freq=\"D\")\n",
    "y = pd.Series([12, 23, 18, 42], index=index)\n",
    "cutoffs = np.array([2])\n",
    "\n",
    "cv = CutoffSplitter(cutoffs, fh=1, window_length=2)\n",
    "\n",
    "print(list(cv.split(y)))\n",
    "\n",
    ">>> [(array([1, 2]), array([3]))]\n",
    "```"
   ]
  },
  {
   "cell_type": "markdown",
   "id": "67cab007",
   "metadata": {
    "slideshow": {
     "slide_type": "slide"
    }
   },
   "source": [
    "## Toy example\n",
    "\n",
    "Time series example: $\\left(y_1,y_2^a,y_2^b,y_4\\right)$. \n",
    "\n",
    "Corresponding enumeration: $(1,2,3,4)$\n",
    "\n",
    "- Two observations for the time index $2$\n",
    "- No observation for time index $3$"
   ]
  },
  {
   "cell_type": "markdown",
   "id": "2af32f31",
   "metadata": {
    "slideshow": {
     "slide_type": "subslide"
    }
   },
   "source": [
    "Current state:\n",
    "\n",
    "| cutoff | train               | test                |\n",
    "| --------|---------------------|---------------------|\n",
    "| 1      | $$(y_1)$$             | $$(y_2^a,y_2^b,y_4)$$ |\n",
    "| 2      | $$(y_1,y_2^a)$$       | $$(y_2^b,y_4)$$       |\n",
    "| 3      | $$(y_1,y_2^a,y_2^b)$$ | $$(y_4)$$             |"
   ]
  },
  {
   "cell_type": "markdown",
   "id": "b4848591",
   "metadata": {
    "slideshow": {
     "slide_type": "subslide"
    }
   },
   "source": [
    "Current state:\n",
    "\n",
    "| cutoff | train             | test      |\n",
    "|--------|-------------------|-----------|\n",
    "| 1      | $$(1)$$            | $$(2,3,4)$$ |\n",
    "| 2      | $$(1,2)$$           | $$(3,4)$$   |\n",
    "| 3      | $$(1,2,3)$$         | $$(4)$$     |"
   ]
  },
  {
   "cell_type": "markdown",
   "id": "2eda7619",
   "metadata": {
    "slideshow": {
     "slide_type": "subslide"
    }
   },
   "source": [
    "Expected state:\n",
    "\n",
    "| cutoff | train               | test                |\n",
    "|--------|---------------------|---------------------|\n",
    "| 1      | $$(y_1)$$             | $$(y_2^a,y_2^b,y_4)$$ |\n",
    "| 2      | $$(y_1,y_2^a,y_2^b)$$ | $$(y_4)$$             |\n",
    "| 3      | $$(y_1,y_2^a,y_2^b)$$ | $$(y_4)$$             |"
   ]
  },
  {
   "cell_type": "markdown",
   "id": "e7b09fa5",
   "metadata": {
    "slideshow": {
     "slide_type": "subslide"
    }
   },
   "source": [
    "Expected state:\n",
    "\n",
    "| cutoff | train               | test      |\n",
    "|--------|---------------------|-----------|\n",
    "| 1      | $$(1)$$               | $$(2,3,4)$$ |\n",
    "| 2      | $$(1,2,3)$$           | $$(4)$$     |\n",
    "| 3      | $$(1,2,3)$$           | $$(4)$$     |"
   ]
  },
  {
   "cell_type": "markdown",
   "id": "f96136da",
   "metadata": {
    "slideshow": {
     "slide_type": "slide"
    }
   },
   "source": [
    "## Formal definition and proposal\n",
    "\n",
    "- Time series index: $T=\\{t(1),\\ldots,t(k)\\}$\n",
    "- It is sorted: $t(i+1)\\geq t(i)$\n",
    "- $t(i)$ can be either an integer or a date/time value\n",
    "\n",
    "**Definition.** A time series is regular if $t(i+1)-t(i)=t(j+1)-t(j)$ for any $i,j\\in\\{2,\\ldots,k\\}$.\n",
    "\n",
    "**Definition.** A cutoff is a reference to the index $t(s)$ such that $t(1)\\leq t(s)\\leq t(k)$. It separates train and test windows, $F=\\{t(m_1),\\ldots,t(m_f)\\}$ and $P=\\{t(h_1),\\ldots,t(h_p)\\}$, respectively. Regardless of a splitter, $t(s)\\geq t\\in F$ and $t(s)< t\\in P$. \n",
    "\n",
    "For irregular time series there exists $s$ such that $t(s)\\notin T$."
   ]
  },
  {
   "cell_type": "markdown",
   "id": "2abd1265",
   "metadata": {
    "slideshow": {
     "slide_type": "subslide"
    }
   },
   "source": [
    "### Original implementation (before me)\n",
    "\n",
    "The current state of `sktime` supports only regular time series.\n",
    "\n",
    "```python\n",
    "np.arange(train_start, train_end + 1)\n",
    "```\n",
    "gave us `iloc` references to the train window."
   ]
  },
  {
   "cell_type": "markdown",
   "id": "4b406873",
   "metadata": {
    "slideshow": {
     "slide_type": "subslide"
    }
   },
   "source": [
    "### As of now implementation\n",
    "\n",
    "Generalized using `pandas.Index.get_loc` and `numpy.argwhere` methods.\n",
    "\n",
    "For example,\n",
    "```python\n",
    "train_end = y.get_loc(cutoff)\n",
    "```\n",
    "gives us the `iloc` reference to the end of the training window, while\n",
    "```python\n",
    "np.argwhere((y >= train_start) & (y <= train_end))\n",
    "```\n",
    "gives us `iloc` references to the train window.\n",
    "\n",
    "Now we may pass an irregular time series and still get correct `iloc` indices."
   ]
  },
  {
   "cell_type": "markdown",
   "id": "fb6ce6fd",
   "metadata": {
    "slideshow": {
     "slide_type": "subslide"
    }
   },
   "source": [
    "### But!...\n",
    "\n",
    "`y.get_loc(cutoff)` raises `KeyError` if `cutoff` does not belong to the index `y`.\n",
    "\n",
    "**Solution:**\n",
    "\n",
    "For an irregular index $T=\\{t(1),\\ldots,t(k)\\}$ construct regular index $T^\\prime=\\{t^\\prime(1),\\ldots,t^\\prime(l)\\}$ such that $t(1)=t^\\prime(1)$ and $t(k)=t^\\prime(l)$.\n",
    "```python\n",
    "y_regular.get_loc(cutoff)\n",
    "```\n",
    "always returns a meaningful `iloc` reference in the context of a regular time index `y_regular`. Same for\n",
    "```python\n",
    "np.argwhere((y_regular >= train_start) & (y_regular <= train_end))\n",
    "```\n",
    "\n",
    "After obtaining a train and/or test windows convert them back to the context of original irregular index `y`:\n",
    "```python\n",
    "y.get_indexer(y_regular[train])\n",
    "```\n",
    "which returns `iloc` references to `y` for only those elements of `y_regular[train]` that exist in `y`."
   ]
  },
  {
   "cell_type": "markdown",
   "id": "6901fa5f",
   "metadata": {
    "slideshow": {
     "slide_type": "subslide"
    }
   },
   "source": [
    "### Constructing regular index\n",
    "\n",
    "`y_regular` for integer valued `y`:\n",
    "```python\n",
    "np.arange(y[0], y[-1] + 1)\n",
    "```\n",
    "For date/time `y`:\n",
    "```python\n",
    "pd.period_range(y.min(), y.max(), freq=freq)\n",
    "```\n",
    "Note that `freq` is required!\n",
    "\n",
    "New argument `freq` at splitter construction:\n",
    "```python\n",
    "def __init__(\n",
    "    self,\n",
    "    fh = DEFAULT_FH,\n",
    "    window_length = DEFAULT_WINDOW_LENGTH,\n",
    "    freq: str = None,\n",
    ") -> None:\n",
    "    self.window_length = window_length\n",
    "    self.fh = fh\n",
    "    self.freq = freq\n",
    "```"
   ]
  }
 ],
 "metadata": {
  "celltoolbar": "Slideshow",
  "jupytext": {
   "formats": "ipynb,auto:percent"
  },
  "kernelspec": {
   "display_name": "Python 3 (ipykernel)",
   "language": "python",
   "name": "python3"
  },
  "language_info": {
   "codemirror_mode": {
    "name": "ipython",
    "version": 3
   },
   "file_extension": ".py",
   "mimetype": "text/x-python",
   "name": "python",
   "nbconvert_exporter": "python",
   "pygments_lexer": "ipython3",
   "version": "3.10.5"
  }
 },
 "nbformat": 4,
 "nbformat_minor": 5
}
