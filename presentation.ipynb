{
 "cells": [
  {
   "cell_type": "markdown",
   "id": "98feb33f",
   "metadata": {
    "slideshow": {
     "slide_type": "slide"
    }
   },
   "source": [
    "# Cross-Validation with Irregular Time Series\n",
    "## Sktime DEV Days 2022\n",
    "### Stanislav Khrapov, Data Scientist, Chintai\n",
    "![Chintai](https://media.newjobs.com/clu/xw31/xw318532284wDEx/branding/177718/Chintai-logo-637553537963924757.png)"
   ]
  },
  {
   "cell_type": "markdown",
   "id": "524de368",
   "metadata": {
    "slideshow": {
     "slide_type": "slide"
    }
   },
   "source": [
    "## Time Series Cross-Validation\n",
    "![split](https://i.stack.imgur.com/fXZ6k.png)"
   ]
  },
  {
   "cell_type": "markdown",
   "id": "8fddda74",
   "metadata": {
    "slideshow": {
     "slide_type": "slide"
    }
   },
   "source": [
    "# Sktime splitters\n",
    "\n",
    "`sktime.forecasting.model_selection`:\n",
    "\n",
    "- `ExpandingWindowSplitter`\n",
    "- `SlidingWindowSplitter`\n",
    "- `CutoffSplitter`\n",
    "- `SingleWindowSplitter`"
   ]
  },
  {
   "cell_type": "markdown",
   "id": "9742c5ef",
   "metadata": {
    "slideshow": {
     "slide_type": "slide"
    }
   },
   "source": [
    "```python\n",
    "import numpy as np\n",
    "import pandas as pd\n",
    "\n",
    "from sktime.forecasting.model_selection import CutoffSplitter\n",
    "\n",
    "index = pd.period_range(start=\"2022-07-13\", periods=4, freq=\"D\")\n",
    "y = pd.Series([12, 23, 18, 42], index=index)\n",
    "cutoffs = np.array([2])\n",
    "\n",
    "cv = CutoffSplitter(cutoffs, fh=1, window_length=2)\n",
    "\n",
    "print(list(cv.split(y)))\n",
    "\n",
    ">>> [(array([1, 2]), array([3]))]\n",
    "```"
   ]
  },
  {
   "cell_type": "markdown",
   "id": "49b02e6e",
   "metadata": {
    "slideshow": {
     "slide_type": "slide"
    }
   },
   "source": [
    "Time series example: $\\left(y_1,y_2^a,y_2^b,y_4\\right)$. \n",
    "\n",
    "Corresponding enumeration: $(1,2,3,4)$\n",
    "\n",
    "- Two observations for the time index $2$\n",
    "- No observation for time index $3$"
   ]
  },
  {
   "cell_type": "markdown",
   "id": "d6b62d27",
   "metadata": {
    "slideshow": {
     "slide_type": "subslide"
    }
   },
   "source": [
    "Current state:\n",
    "\n",
    "| cutoff | train               | test                |\n",
    "| --------|---------------------|---------------------|\n",
    "| 1      | $$(y_1)$$             | $$(y_2^a,y_2^b,y_4)$$ |\n",
    "| 2      | $$(y_1,y_2^a)$$       | $$(y_2^b,y_4)$$       |\n",
    "| 3      | $$(y_1,y_2^a,y_2^b)$$ | $$(y_4)$$             |"
   ]
  },
  {
   "cell_type": "markdown",
   "id": "ce731178",
   "metadata": {
    "slideshow": {
     "slide_type": "subslide"
    }
   },
   "source": [
    "Current state:\n",
    "\n",
    "| cutoff | train             | test      |\n",
    "|--------|-------------------|-----------|\n",
    "| 1      | $$(1)$$            | $$(2,3,4)$$ |\n",
    "| 2      | $$(1,2)$$           | $$(3,4)$$   |\n",
    "| 3      | $$(1,2,3)$$         | $$(4)$$     |"
   ]
  },
  {
   "cell_type": "markdown",
   "id": "7c9abde8",
   "metadata": {
    "slideshow": {
     "slide_type": "subslide"
    }
   },
   "source": [
    "Expected state:\n",
    "\n",
    "| cutoff | train               | test                |\n",
    "|--------|---------------------|---------------------|\n",
    "| 1      | $$(y_1)$$             | $$(y_2^a,y_2^b,y_4)$$ |\n",
    "| 2      | $$(y_1,y_2^a,y_2^b)$$ | $$(y_4)$$             |\n",
    "| 3      | $$(y_1,y_2^a,y_2^b)$$ | $$(y_4)$$             |"
   ]
  },
  {
   "cell_type": "markdown",
   "id": "18b8f70d",
   "metadata": {
    "slideshow": {
     "slide_type": "subslide"
    }
   },
   "source": [
    "Expected state:\n",
    "\n",
    "| cutoff | train               | test      |\n",
    "|--------|---------------------|-----------|\n",
    "| 1      | $$(1)$$               | $$(2,3,4)$$ |\n",
    "| 2      | $$(1,2,3)$$           | $$(4)$$     |\n",
    "| 3      | $$(1,2,3)$$           | $$(4)$$     |"
   ]
  },
  {
   "cell_type": "markdown",
   "id": "66508a3b",
   "metadata": {
    "slideshow": {
     "slide_type": "slide"
    }
   },
   "source": [
    "### Formal definition and proposal\n",
    "\n",
    "Denote a time series index as $T=\\{t(1),\\ldots,t(k)\\}$. Assume that it is sorted, that is $t(i+1)\\geq t(i)$. Also assume that $t(i)$ can be either an integer or a date/time value.\n",
    "\n",
    "**Definition.** A time series is regular if $t(i+1)-t(i)=t(j+1)-t(j)$ for any $i,j\\in\\{2,\\ldots,k\\}$. Conversely, a time series is irregular, if there exists $i\\neq j$ such that $t(i+1)-t(i)\\neq t(j+1)-t(j)$.\n",
    "\n",
    "**Definition.** A cutoff is a reference to the index $t(s)$ such that $t(1)\\leq t(s)\\leq t(k)$. It separates train and test windows, $F=\\{t(m_1),\\ldots,t(m_f)\\}$ and $P=\\{t(h_1),\\ldots,t(h_p)\\}$, respectively. Exact definition of a train/test window depends on a specific splitter. Regardless of a splitter, $t(s)\\geq t\\in F$ and $t(s)< t\\in P$. \n",
    "\n",
    "For a regular time series it is guaranteed that any cutoff $t(s)\\in T$. Conversely, for irregular time series there exists $s$ such that $t(s)\\notin T$."
   ]
  },
  {
   "cell_type": "markdown",
   "id": "13d8ad4b",
   "metadata": {
    "slideshow": {
     "slide_type": "subslide"
    }
   },
   "source": [
    "The current state of `sktime` supports only regular time series. At the core the implementation relied on constructing train/test windows using `np.arange`, which was sufficient given the knowledge of window left and right endpoints. For example,\n",
    "```python\n",
    "np.arange(train_start, train_end + 1)\n",
    "```\n",
    "gave us `iloc` references to the train window.\n",
    "\n",
    "After a series of refactoring PRs this implementation was generalized using `pandas.Index.get_loc` and `numpy.argwhere` methods. The first one is used to obtain `iloc` reference $s$ in $t(s)$, while the second is used to get `iloc` references $\\{m_1,\\ldots,m_f\\}$ and $\\{h_1,\\ldots,h_p\\}$. For example,\n",
    "```python\n",
    "train_end = y.get_loc(cutoff)\n",
    "```\n",
    "gives us the `iloc` reference to the end of the training window, while\n",
    "```python\n",
    "np.argwhere((y >= train_start) & (y <= train_end))\n",
    "```\n",
    "gives us `iloc` references to the train window. The advantage here is that we may pass an irregular time series and still get correct `iloc` indices."
   ]
  },
  {
   "cell_type": "markdown",
   "id": "4d12bb52",
   "metadata": {
    "slideshow": {
     "slide_type": "subslide"
    }
   },
   "source": [
    "Going deeper into the implementation it turns out that such a refactoring is still not sufficient to treat all currently existing splitters. In particular, `y.get_loc(cutoff)` raises `KeyError` if `cutoff` does not belong to the index `y`. We propose to treat this as follows. For an irregular index $T=\\{t(1),\\ldots,t(k)\\}$ we can construct a corresponding regular index $T^\\prime=\\{t^\\prime(1),\\ldots,t^\\prime(l)\\}$ such that $t(1)=t^\\prime(1)$ and $t(k)=t^\\prime(l)$. For such an index \n",
    "```python\n",
    "y_regular.get_loc(cutoff)\n",
    "```\n",
    "always returns a meaningful `iloc` reference in the context of a regular time index `y_regular`. Same for\n",
    "```python\n",
    "np.argwhere((y_regular >= train_start) & (y_regular <= train_end))\n",
    "```\n",
    "After obtaining a train and/or test windows one has to convert them back to the context of original irregular index `y`. This can be achieved by using, for example,\n",
    "```python\n",
    "y.get_indexer(y_regular[train])\n",
    "```\n",
    "which returns `iloc` references to `y` for only those elements of `y_regular[train]` that exist in `y`."
   ]
  },
  {
   "cell_type": "markdown",
   "id": "84c4fa5a",
   "metadata": {
    "slideshow": {
     "slide_type": "subslide"
    }
   },
   "source": [
    "Constructing `y_regular` for integer valued `y` is trivial:\n",
    "```python\n",
    "np.arange(y[0], y[-1] + 1)\n",
    "```\n",
    "For date/time `y` one needs to know the frequency of a time series after aggregation/imputation. Then, for example,\n",
    "```python\n",
    "pd.period_range(y.min(), y.max(), freq=freq)\n",
    "```\n",
    "produces the desired result. Currently, if one passes an irregular time index to any splitter in `sktime`, there is no robust way to guess a desired frequency since aggregation/imputation may be performed for any time unit. Hence, it is required to implement one more optional argument in splitter constructor, namely `freq`:\n",
    "```python\n",
    "def __init__(\n",
    "    self,\n",
    "    fh = DEFAULT_FH,\n",
    "    window_length = DEFAULT_WINDOW_LENGTH,\n",
    "    freq: str = None,\n",
    ") -> None:\n",
    "    self.window_length = window_length\n",
    "    self.fh = fh\n",
    "    self.freq = freq\n",
    "```"
   ]
  }
 ],
 "metadata": {
  "celltoolbar": "Slideshow",
  "jupytext": {
   "formats": "ipynb,auto:percent"
  },
  "kernelspec": {
   "display_name": "Python 3 (ipykernel)",
   "language": "python",
   "name": "python3"
  },
  "language_info": {
   "codemirror_mode": {
    "name": "ipython",
    "version": 3
   },
   "file_extension": ".py",
   "mimetype": "text/x-python",
   "name": "python",
   "nbconvert_exporter": "python",
   "pygments_lexer": "ipython3",
   "version": "3.10.5"
  }
 },
 "nbformat": 4,
 "nbformat_minor": 5
}
